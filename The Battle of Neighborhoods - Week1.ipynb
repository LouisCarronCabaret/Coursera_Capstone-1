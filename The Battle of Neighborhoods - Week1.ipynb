{
    "cells": [
        {
            "cell_type": "markdown",
            "metadata": {
                "collapsed": true
            },
            "source": "<h1>Capstone Project - The Battle of the Neighborhoods</h1>\n\n<h3>Applied Data Science Capstone by IBM/Coursera</h3>"
        },
        {
            "cell_type": "markdown",
            "metadata": {},
            "source": "<h2>Introduction: Business Problem</h2>\n\nThis project aims to select the safest borough in London based on the <b>total crimes</b>, explore the <b>neighborhoods</b> of that borough to find the <b>10 most common venues</b> in each neighborhood and finally cluster the neighborhoods using <b>k-mean clustering</b>.\n\nThis report will be targeted to people who are looking to <b>relocate to London</b>. Inorder to finalise a neighborhood to hunt for an apartment, safety is considered as a top concern when moving to a new place. If you don\u2019t feel safe in your own home, you\u2019re not going to be able to enjoy living there. The <b>crime statistics</b> will provide an insight into this issue.\n\nWe will focus on the safest borough and explore its neighborhoods and the 10 most common venues in each neighborhood so that the best neighborhood suited to an individual's needs can be selected."
        },
        {
            "cell_type": "markdown",
            "metadata": {},
            "source": "<h3>Data</h3> \nBased on definition of our problem, factors that will influence our decision are:\n<ul>\n    <li>The total number of crimes commited in each of the borough during the last year.</li>\n    <li>The most common venues in each of the neighborhood in the safest borough selected.</li>\n\nFollowing data sources will be needed to extract/generate the required information:\n\n<b>Part 1:</b> Preprocessing a real world data set from Kaggle showing the London Crimes from 2008 to 2016: A dataset consisting of the crime statistics of each borough in London obtained from <b>Kaggle</b> <br> <br>\n<b>Part 2:</b> Scraping additional information of the different Boroughs in London from a Wikipedia page.: More information regarding the boroughs of London is scraped using the <b>Beautifulsoup library</b>.<br> <br>\n<b>Part 3:</b> Creating a new dataset of the Neighborhoods of the safest borough in London and generating their co-ordinates.: Co-ordinate of neighborhood will be obtained using <b>Google Maps API geocoding</b>."
        },
        {
            "cell_type": "markdown",
            "metadata": {},
            "source": "<h3>Part 1: Preprocessing a real world data set from Kaggle showing the London Crimes from 2008 to 2016</h3>"
        },
        {
            "cell_type": "markdown",
            "metadata": {},
            "source": "<h4>London Crime Data</h4>\n\nAbout this file:\n<ul>\n<li>lsoa_code: code for Lower Super Output Area in Greater London. </li>\n<li>borough: Common name for London borough. </li>\n<li>major_category: High level categorization of crime. </li>\n<li>minor_category: Low level categorization of crime within major category. </li>\n<li>value: monthly reported count of categorical crime in given borough. </li>\n<li>year: Year of reported counts, 2008-2016. </li>\n<li>month: Month of reported counts, 1-12. </li>\n</ul>\n\nData set URL: <a href=\"https://www.kaggle.com/jboysen/london-crime\">https://www.kaggle.com/jboysen/london-crime</a>"
        }
    ],
    "metadata": {
        "kernelspec": {
            "display_name": "Python 3.6",
            "language": "python",
            "name": "python3"
        },
        "language_info": {
            "codemirror_mode": {
                "name": "ipython",
                "version": 3
            },
            "file_extension": ".py",
            "mimetype": "text/x-python",
            "name": "python",
            "nbconvert_exporter": "python",
            "pygments_lexer": "ipython3",
            "version": "3.6.9"
        }
    },
    "nbformat": 4,
    "nbformat_minor": 1
}