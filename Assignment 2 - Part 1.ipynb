{
    "cells": [
        {
            "cell_type": "markdown",
            "metadata": {
                "collapsed": true
            },
            "source": "<h1>Capstone Assignment 2 :Segmenting and Clustering Neighborhoods in Toronto - Part 1</h1>\n\nFor this assignment, you will be required to explore and cluster the neighborhoods in Toronto.\n<ol>\n    <li>Start by creating a new Notebook for this assignment.</li>\n    <li>Use the Notebook to build the code to scrape the following Wikipedia page,<a href=\"https://en.wikipedia.org/wiki/List_of_postal_codes_of_Canada:_M\">https://en.wikipedia.org/wiki/List_of_postal_codes_of_Canada:_M</a>, in order to obtain the data that is in the table of postal codes and to transform the data into a pandas dataframe</li>\n    </ol>\n"
        },
        {
            "cell_type": "code",
            "execution_count": 1,
            "metadata": {},
            "outputs": [],
            "source": "# Import necessary libraries\n\nimport requests\nimport lxml.html as lh\nimport pandas as pd"
        },
        {
            "cell_type": "code",
            "execution_count": 2,
            "metadata": {},
            "outputs": [],
            "source": "url='https://en.wikipedia.org/wiki/List_of_postal_codes_of_Canada:_M'\n\n#Create a handle, page, to handle the contents of the website\npage = requests.get(url)\n\n#Store the contents of the website under doc\ndoc = lh.fromstring(page.content)\n\n#Parse data that are stored between <tr>..</tr> of HTML\ntr_elements = doc.xpath('//tr')"
        },
        {
            "cell_type": "code",
            "execution_count": 3,
            "metadata": {},
            "outputs": [
                {
                    "data": {
                        "text/plain": "[3, 3, 3, 3, 3, 3, 3, 3, 3, 3, 3, 3]"
                    },
                    "execution_count": 3,
                    "metadata": {},
                    "output_type": "execute_result"
                }
            ],
            "source": "#Check the length of the first 12 rows\n[len(T) for T in tr_elements[:12]]"
        },
        {
            "cell_type": "markdown",
            "metadata": {},
            "source": "This means that there are 3 columns per row"
        },
        {
            "cell_type": "code",
            "execution_count": 4,
            "metadata": {},
            "outputs": [
                {
                    "name": "stdout",
                    "output_type": "stream",
                    "text": "1:\"Postal Code\n\"\n2:\"Borough\n\"\n3:\"Neighbourhood\n\"\n"
                }
            ],
            "source": "# Parse the first row as our header\ntr_elements = doc.xpath('//tr')\n\n#Create empty list\ncol=[]\ni=0\n\n#For each row, store each first element (header) and an empty list\nfor t in tr_elements[0]:\n    i+=1\n    name=t.text_content()\n    print ('%d:\"%s\"'%(i,name))\n    col.append((name,[]))"
        },
        {
            "cell_type": "code",
            "execution_count": 5,
            "metadata": {},
            "outputs": [],
            "source": "#Since out first row is the header, data is stored on the second row onwards\nfor j in range(1,len(tr_elements)):\n    #T is our j'th row\n    T=tr_elements[j]\n    \n    #If row is not of size 3, the //tr data is not from our table \n    if len(T)!=3:\n        break\n    \n    #i is the index of our column\n    i=0\n    \n    #Iterate through each element of the row\n    for t in T.iterchildren():\n        data=t.text_content() \n        #Check if row is empty\n        if i>0:\n        #Convert any numerical value to integers\n            try:\n                data=int(data)\n            except:\n                pass\n        #Append the data to the empty list of the i'th column\n        col[i][1].append(data)\n        #Increment i for the next column\n        i+=1"
        },
        {
            "cell_type": "code",
            "execution_count": 6,
            "metadata": {},
            "outputs": [
                {
                    "data": {
                        "text/plain": "[181, 181, 181]"
                    },
                    "execution_count": 6,
                    "metadata": {},
                    "output_type": "execute_result"
                }
            ],
            "source": "# Check the length of each column. Ideally, they should all be the same\n[len(C) for (title,C) in col]"
        },
        {
            "cell_type": "code",
            "execution_count": 7,
            "metadata": {},
            "outputs": [],
            "source": "Dict={title:column for (title,column) in col}\ndf=pd.DataFrame(Dict)"
        },
        {
            "cell_type": "code",
            "execution_count": 8,
            "metadata": {},
            "outputs": [
                {
                    "data": {
                        "text/html": "<div>\n<style scoped>\n    .dataframe tbody tr th:only-of-type {\n        vertical-align: middle;\n    }\n\n    .dataframe tbody tr th {\n        vertical-align: top;\n    }\n\n    .dataframe thead th {\n        text-align: right;\n    }\n</style>\n<table border=\"1\" class=\"dataframe\">\n  <thead>\n    <tr style=\"text-align: right;\">\n      <th></th>\n      <th>Postal Code</th>\n      <th>Borough</th>\n      <th>Neighbourhood</th>\n    </tr>\n  </thead>\n  <tbody>\n    <tr>\n      <th>0</th>\n      <td>M1A\\n</td>\n      <td>Not assigned\\n</td>\n      <td>Not assigned\\n</td>\n    </tr>\n    <tr>\n      <th>1</th>\n      <td>M2A\\n</td>\n      <td>Not assigned\\n</td>\n      <td>Not assigned\\n</td>\n    </tr>\n    <tr>\n      <th>2</th>\n      <td>M3A\\n</td>\n      <td>North York\\n</td>\n      <td>Parkwoods\\n</td>\n    </tr>\n    <tr>\n      <th>3</th>\n      <td>M4A\\n</td>\n      <td>North York\\n</td>\n      <td>Victoria Village\\n</td>\n    </tr>\n    <tr>\n      <th>4</th>\n      <td>M5A\\n</td>\n      <td>Downtown Toronto\\n</td>\n      <td>Regent Park, Harbourfront\\n</td>\n    </tr>\n  </tbody>\n</table>\n</div>",
                        "text/plain": "  Postal Code\\n           Borough\\n              Neighbourhood\\n\n0         M1A\\n      Not assigned\\n               Not assigned\\n\n1         M2A\\n      Not assigned\\n               Not assigned\\n\n2         M3A\\n        North York\\n                  Parkwoods\\n\n3         M4A\\n        North York\\n           Victoria Village\\n\n4         M5A\\n  Downtown Toronto\\n  Regent Park, Harbourfront\\n"
                    },
                    "execution_count": 8,
                    "metadata": {},
                    "output_type": "execute_result"
                }
            ],
            "source": "# Access the top 5 rows of the data frame \ndf.head()"
        },
        {
            "cell_type": "code",
            "execution_count": 9,
            "metadata": {},
            "outputs": [
                {
                    "data": {
                        "text/html": "<div>\n<style scoped>\n    .dataframe tbody tr th:only-of-type {\n        vertical-align: middle;\n    }\n\n    .dataframe tbody tr th {\n        vertical-align: top;\n    }\n\n    .dataframe thead th {\n        text-align: right;\n    }\n</style>\n<table border=\"1\" class=\"dataframe\">\n  <thead>\n    <tr style=\"text-align: right;\">\n      <th></th>\n      <th>PostalCode</th>\n      <th>Borough</th>\n      <th>Neighbourhood</th>\n    </tr>\n  </thead>\n  <tbody>\n    <tr>\n      <th>0</th>\n      <td>M1A\\n</td>\n      <td>Not assigned\\n</td>\n      <td>Not assigned\\n</td>\n    </tr>\n    <tr>\n      <th>1</th>\n      <td>M2A\\n</td>\n      <td>Not assigned\\n</td>\n      <td>Not assigned\\n</td>\n    </tr>\n    <tr>\n      <th>2</th>\n      <td>M3A\\n</td>\n      <td>North York\\n</td>\n      <td>Parkwoods\\n</td>\n    </tr>\n    <tr>\n      <th>3</th>\n      <td>M4A\\n</td>\n      <td>North York\\n</td>\n      <td>Victoria Village\\n</td>\n    </tr>\n    <tr>\n      <th>4</th>\n      <td>M5A\\n</td>\n      <td>Downtown Toronto\\n</td>\n      <td>Regent Park, Harbourfront\\n</td>\n    </tr>\n  </tbody>\n</table>\n</div>",
                        "text/plain": "  PostalCode             Borough                Neighbourhood\n0      M1A\\n      Not assigned\\n               Not assigned\\n\n1      M2A\\n      Not assigned\\n               Not assigned\\n\n2      M3A\\n        North York\\n                  Parkwoods\\n\n3      M4A\\n        North York\\n           Victoria Village\\n\n4      M5A\\n  Downtown Toronto\\n  Regent Park, Harbourfront\\n"
                    },
                    "execution_count": 9,
                    "metadata": {},
                    "output_type": "execute_result"
                }
            ],
            "source": "df.columns = ['PostalCode', 'Borough','Neighbourhood']\n\ncols = df.columns.tolist()\ncols\n\n#cols = cols[-1:] + cols[:-1]\n\ndf = df[cols]\n\ndf.head()"
        },
        {
            "cell_type": "code",
            "execution_count": 10,
            "metadata": {},
            "outputs": [
                {
                    "data": {
                        "text/html": "<div>\n<style scoped>\n    .dataframe tbody tr th:only-of-type {\n        vertical-align: middle;\n    }\n\n    .dataframe tbody tr th {\n        vertical-align: top;\n    }\n\n    .dataframe thead th {\n        text-align: right;\n    }\n</style>\n<table border=\"1\" class=\"dataframe\">\n  <thead>\n    <tr style=\"text-align: right;\">\n      <th></th>\n      <th>PostalCode</th>\n      <th>Borough</th>\n      <th>Neighbourhood</th>\n    </tr>\n  </thead>\n  <tbody>\n    <tr>\n      <th>0</th>\n      <td>M1A</td>\n      <td>Not assigned</td>\n      <td>Not assigned</td>\n    </tr>\n    <tr>\n      <th>1</th>\n      <td>M2A</td>\n      <td>Not assigned</td>\n      <td>Not assigned</td>\n    </tr>\n    <tr>\n      <th>2</th>\n      <td>M3A</td>\n      <td>North York</td>\n      <td>Parkwoods</td>\n    </tr>\n    <tr>\n      <th>3</th>\n      <td>M4A</td>\n      <td>North York</td>\n      <td>Victoria Village</td>\n    </tr>\n    <tr>\n      <th>4</th>\n      <td>M5A</td>\n      <td>Downtown Toronto</td>\n      <td>Regent Park, Harbourfront</td>\n    </tr>\n    <tr>\n      <th>5</th>\n      <td>M6A</td>\n      <td>North York</td>\n      <td>Lawrence Manor, Lawrence Heights</td>\n    </tr>\n    <tr>\n      <th>6</th>\n      <td>M7A</td>\n      <td>Downtown Toronto</td>\n      <td>Queen's Park, Ontario Provincial Government</td>\n    </tr>\n    <tr>\n      <th>7</th>\n      <td>M8A</td>\n      <td>Not assigned</td>\n      <td>Not assigned</td>\n    </tr>\n    <tr>\n      <th>8</th>\n      <td>M9A</td>\n      <td>Etobicoke</td>\n      <td>Islington Avenue, Humber Valley Village</td>\n    </tr>\n    <tr>\n      <th>9</th>\n      <td>M1B</td>\n      <td>Scarborough</td>\n      <td>Malvern, Rouge</td>\n    </tr>\n  </tbody>\n</table>\n</div>",
                        "text/plain": "  PostalCode           Borough                                Neighbourhood\n0        M1A      Not assigned                                 Not assigned\n1        M2A      Not assigned                                 Not assigned\n2        M3A        North York                                    Parkwoods\n3        M4A        North York                             Victoria Village\n4        M5A  Downtown Toronto                    Regent Park, Harbourfront\n5        M6A        North York             Lawrence Manor, Lawrence Heights\n6        M7A  Downtown Toronto  Queen's Park, Ontario Provincial Government\n7        M8A      Not assigned                                 Not assigned\n8        M9A         Etobicoke      Islington Avenue, Humber Valley Village\n9        M1B       Scarborough                               Malvern, Rouge"
                    },
                    "execution_count": 10,
                    "metadata": {},
                    "output_type": "execute_result"
                }
            ],
            "source": "df = df.replace('\\n','', regex=True)\ndf.head(10)"
        },
        {
            "cell_type": "code",
            "execution_count": 11,
            "metadata": {},
            "outputs": [
                {
                    "data": {
                        "text/plain": "['PostalCode', 'Borough', 'Neighbourhood']"
                    },
                    "execution_count": 11,
                    "metadata": {},
                    "output_type": "execute_result"
                }
            ],
            "source": "list(df.columns)"
        },
        {
            "cell_type": "code",
            "execution_count": 12,
            "metadata": {},
            "outputs": [
                {
                    "data": {
                        "text/html": "<div>\n<style scoped>\n    .dataframe tbody tr th:only-of-type {\n        vertical-align: middle;\n    }\n\n    .dataframe tbody tr th {\n        vertical-align: top;\n    }\n\n    .dataframe thead th {\n        text-align: right;\n    }\n</style>\n<table border=\"1\" class=\"dataframe\">\n  <thead>\n    <tr style=\"text-align: right;\">\n      <th></th>\n      <th>PostalCode</th>\n      <th>Borough</th>\n      <th>Neighbourhood</th>\n    </tr>\n  </thead>\n  <tbody>\n    <tr>\n      <th>0</th>\n      <td>M3A</td>\n      <td>North York</td>\n      <td>Parkwoods</td>\n    </tr>\n    <tr>\n      <th>1</th>\n      <td>M4A</td>\n      <td>North York</td>\n      <td>Victoria Village</td>\n    </tr>\n    <tr>\n      <th>2</th>\n      <td>M5A</td>\n      <td>Downtown Toronto</td>\n      <td>Regent Park, Harbourfront</td>\n    </tr>\n    <tr>\n      <th>3</th>\n      <td>M6A</td>\n      <td>North York</td>\n      <td>Lawrence Manor, Lawrence Heights</td>\n    </tr>\n    <tr>\n      <th>4</th>\n      <td>M7A</td>\n      <td>Downtown Toronto</td>\n      <td>Queen's Park, Ontario Provincial Government</td>\n    </tr>\n    <tr>\n      <th>5</th>\n      <td>M9A</td>\n      <td>Etobicoke</td>\n      <td>Islington Avenue, Humber Valley Village</td>\n    </tr>\n    <tr>\n      <th>6</th>\n      <td>M1B</td>\n      <td>Scarborough</td>\n      <td>Malvern, Rouge</td>\n    </tr>\n    <tr>\n      <th>7</th>\n      <td>M3B</td>\n      <td>North York</td>\n      <td>Don Mills</td>\n    </tr>\n    <tr>\n      <th>8</th>\n      <td>M4B</td>\n      <td>East York</td>\n      <td>Parkview Hill, Woodbine Gardens</td>\n    </tr>\n    <tr>\n      <th>9</th>\n      <td>M5B</td>\n      <td>Downtown Toronto</td>\n      <td>Garden District, Ryerson</td>\n    </tr>\n  </tbody>\n</table>\n</div>",
                        "text/plain": "  PostalCode           Borough                                Neighbourhood\n0        M3A        North York                                    Parkwoods\n1        M4A        North York                             Victoria Village\n2        M5A  Downtown Toronto                    Regent Park, Harbourfront\n3        M6A        North York             Lawrence Manor, Lawrence Heights\n4        M7A  Downtown Toronto  Queen's Park, Ontario Provincial Government\n5        M9A         Etobicoke      Islington Avenue, Humber Valley Village\n6        M1B       Scarborough                               Malvern, Rouge\n7        M3B        North York                                    Don Mills\n8        M4B         East York              Parkview Hill, Woodbine Gardens\n9        M5B  Downtown Toronto                     Garden District, Ryerson"
                    },
                    "execution_count": 12,
                    "metadata": {},
                    "output_type": "execute_result"
                }
            ],
            "source": "df.drop(df[df['Borough'] == 'Not assigned'].index, inplace = True)\n\n# Reset the index and dropping the previous index\ndf = df.reset_index(drop=True)\n\ndf.head(10)"
        },
        {
            "cell_type": "markdown",
            "metadata": {},
            "source": "<h3>Combining Neighbourhoods based on similar Postcode and Borough</h3>"
        },
        {
            "cell_type": "code",
            "execution_count": 14,
            "metadata": {},
            "outputs": [
                {
                    "data": {
                        "text/html": "<div>\n<style scoped>\n    .dataframe tbody tr th:only-of-type {\n        vertical-align: middle;\n    }\n\n    .dataframe tbody tr th {\n        vertical-align: top;\n    }\n\n    .dataframe thead th {\n        text-align: right;\n    }\n</style>\n<table border=\"1\" class=\"dataframe\">\n  <thead>\n    <tr style=\"text-align: right;\">\n      <th></th>\n      <th>PostalCode</th>\n      <th>Borough</th>\n      <th>Neighbourhood</th>\n    </tr>\n  </thead>\n  <tbody>\n    <tr>\n      <th>0</th>\n      <td></td>\n      <td>Canadian postal codes</td>\n      <td></td>\n    </tr>\n    <tr>\n      <th>1</th>\n      <td>M1B</td>\n      <td>Scarborough</td>\n      <td>Malvern, Rouge</td>\n    </tr>\n    <tr>\n      <th>2</th>\n      <td>M1C</td>\n      <td>Scarborough</td>\n      <td>Rouge Hill, Port Union, Highland Creek</td>\n    </tr>\n    <tr>\n      <th>3</th>\n      <td>M1E</td>\n      <td>Scarborough</td>\n      <td>Guildwood, Morningside, West Hill</td>\n    </tr>\n    <tr>\n      <th>4</th>\n      <td>M1G</td>\n      <td>Scarborough</td>\n      <td>Woburn</td>\n    </tr>\n    <tr>\n      <th>5</th>\n      <td>M1H</td>\n      <td>Scarborough</td>\n      <td>Cedarbrae</td>\n    </tr>\n    <tr>\n      <th>6</th>\n      <td>M1J</td>\n      <td>Scarborough</td>\n      <td>Scarborough Village</td>\n    </tr>\n    <tr>\n      <th>7</th>\n      <td>M1K</td>\n      <td>Scarborough</td>\n      <td>Kennedy Park, Ionview, East Birchmount Park</td>\n    </tr>\n    <tr>\n      <th>8</th>\n      <td>M1L</td>\n      <td>Scarborough</td>\n      <td>Golden Mile, Clairlea, Oakridge</td>\n    </tr>\n    <tr>\n      <th>9</th>\n      <td>M1M</td>\n      <td>Scarborough</td>\n      <td>Cliffside, Cliffcrest, Scarborough Village West</td>\n    </tr>\n  </tbody>\n</table>\n</div>",
                        "text/plain": "  PostalCode                Borough  \\\n0             Canadian postal codes   \n1        M1B            Scarborough   \n2        M1C            Scarborough   \n3        M1E            Scarborough   \n4        M1G            Scarborough   \n5        M1H            Scarborough   \n6        M1J            Scarborough   \n7        M1K            Scarborough   \n8        M1L            Scarborough   \n9        M1M            Scarborough   \n\n                                     Neighbourhood  \n0                                                   \n1                                   Malvern, Rouge  \n2           Rouge Hill, Port Union, Highland Creek  \n3                Guildwood, Morningside, West Hill  \n4                                           Woburn  \n5                                        Cedarbrae  \n6                              Scarborough Village  \n7      Kennedy Park, Ionview, East Birchmount Park  \n8                  Golden Mile, Clairlea, Oakridge  \n9  Cliffside, Cliffcrest, Scarborough Village West  "
                    },
                    "execution_count": 14,
                    "metadata": {},
                    "output_type": "execute_result"
                }
            ],
            "source": "df = df.groupby(['PostalCode', 'Borough'])['Neighbourhood'].apply(','.join).reset_index()\ndf.columns = ['PostalCode','Borough','Neighbourhood']\ndf.head(10)"
        },
        {
            "cell_type": "code",
            "execution_count": 30,
            "metadata": {},
            "outputs": [
                {
                    "data": {
                        "text/html": "<div>\n<style scoped>\n    .dataframe tbody tr th:only-of-type {\n        vertical-align: middle;\n    }\n\n    .dataframe tbody tr th {\n        vertical-align: top;\n    }\n\n    .dataframe thead th {\n        text-align: right;\n    }\n</style>\n<table border=\"1\" class=\"dataframe\">\n  <thead>\n    <tr style=\"text-align: right;\">\n      <th></th>\n      <th>PostalCode</th>\n      <th>Borough</th>\n      <th>Neighbourhood</th>\n    </tr>\n  </thead>\n  <tbody>\n    <tr>\n      <th>0</th>\n      <td>M1B</td>\n      <td>Scarborough</td>\n      <td>Malvern, Rouge</td>\n    </tr>\n    <tr>\n      <th>1</th>\n      <td>M1C</td>\n      <td>Scarborough</td>\n      <td>Rouge Hill, Port Union, Highland Creek</td>\n    </tr>\n    <tr>\n      <th>2</th>\n      <td>M1E</td>\n      <td>Scarborough</td>\n      <td>Guildwood, Morningside, West Hill</td>\n    </tr>\n    <tr>\n      <th>3</th>\n      <td>M1G</td>\n      <td>Scarborough</td>\n      <td>Woburn</td>\n    </tr>\n    <tr>\n      <th>4</th>\n      <td>M1H</td>\n      <td>Scarborough</td>\n      <td>Cedarbrae</td>\n    </tr>\n    <tr>\n      <th>5</th>\n      <td>M1J</td>\n      <td>Scarborough</td>\n      <td>Scarborough Village</td>\n    </tr>\n    <tr>\n      <th>6</th>\n      <td>M1K</td>\n      <td>Scarborough</td>\n      <td>Kennedy Park, Ionview, East Birchmount Park</td>\n    </tr>\n    <tr>\n      <th>7</th>\n      <td>M1L</td>\n      <td>Scarborough</td>\n      <td>Golden Mile, Clairlea, Oakridge</td>\n    </tr>\n    <tr>\n      <th>8</th>\n      <td>M1M</td>\n      <td>Scarborough</td>\n      <td>Cliffside, Cliffcrest, Scarborough Village West</td>\n    </tr>\n    <tr>\n      <th>9</th>\n      <td>M1N</td>\n      <td>Scarborough</td>\n      <td>Birch Cliff, Cliffside West</td>\n    </tr>\n  </tbody>\n</table>\n</div>",
                        "text/plain": "  PostalCode      Borough                                    Neighbourhood\n0        M1B  Scarborough                                   Malvern, Rouge\n1        M1C  Scarborough           Rouge Hill, Port Union, Highland Creek\n2        M1E  Scarborough                Guildwood, Morningside, West Hill\n3        M1G  Scarborough                                           Woburn\n4        M1H  Scarborough                                        Cedarbrae\n5        M1J  Scarborough                              Scarborough Village\n6        M1K  Scarborough      Kennedy Park, Ionview, East Birchmount Park\n7        M1L  Scarborough                  Golden Mile, Clairlea, Oakridge\n8        M1M  Scarborough  Cliffside, Cliffcrest, Scarborough Village West\n9        M1N  Scarborough                      Birch Cliff, Cliffside West"
                    },
                    "execution_count": 30,
                    "metadata": {},
                    "output_type": "execute_result"
                }
            ],
            "source": "df.drop(df[df['Borough'] == 'Canadian postal codes'].index, inplace = True)\n\n# Reset the index and dropping the previous index\ndf = df.reset_index(drop=True)\n\ndf.head(10)"
        },
        {
            "cell_type": "code",
            "execution_count": 31,
            "metadata": {},
            "outputs": [],
            "source": "#Removing any space in the start of the string\ndf['Neighbourhood'] = df['Neighbourhood'].str.strip()"
        },
        {
            "cell_type": "markdown",
            "metadata": {},
            "source": "<h4>Assigning Borough values to the Neignbourhood where vlaue is \"Not assigned\"</h4>"
        },
        {
            "cell_type": "code",
            "execution_count": 32,
            "metadata": {},
            "outputs": [],
            "source": "df.loc[df['Neighbourhood'] == 'Not assigned', 'Neighbourhood'] = df['Borough']"
        },
        {
            "cell_type": "code",
            "execution_count": 33,
            "metadata": {},
            "outputs": [
                {
                    "data": {
                        "text/html": "<div>\n<style scoped>\n    .dataframe tbody tr th:only-of-type {\n        vertical-align: middle;\n    }\n\n    .dataframe tbody tr th {\n        vertical-align: top;\n    }\n\n    .dataframe thead th {\n        text-align: right;\n    }\n</style>\n<table border=\"1\" class=\"dataframe\">\n  <thead>\n    <tr style=\"text-align: right;\">\n      <th></th>\n      <th>PostalCode</th>\n      <th>Borough</th>\n      <th>Neighbourhood</th>\n    </tr>\n  </thead>\n  <tbody>\n  </tbody>\n</table>\n</div>",
                        "text/plain": "Empty DataFrame\nColumns: [PostalCode, Borough, Neighbourhood]\nIndex: []"
                    },
                    "execution_count": 33,
                    "metadata": {},
                    "output_type": "execute_result"
                }
            ],
            "source": "# Check if the Neighbourhood for Queen's Park changed \ndf[df['Borough'] == 'Queen\\'s Park']"
        },
        {
            "cell_type": "markdown",
            "metadata": {},
            "source": "<p> As per wiki page no Neighbourhood present with 'Not Assigned' where 'Borough' has some value </p>"
        },
        {
            "cell_type": "code",
            "execution_count": 34,
            "metadata": {},
            "outputs": [
                {
                    "data": {
                        "text/plain": "(103, 3)"
                    },
                    "execution_count": 34,
                    "metadata": {},
                    "output_type": "execute_result"
                }
            ],
            "source": "# Check the shape of the data frame\ndf.shape"
        },
        {
            "cell_type": "markdown",
            "metadata": {},
            "source": "<h4> Save the file in CSV </h4>"
        },
        {
            "cell_type": "code",
            "execution_count": 27,
            "metadata": {},
            "outputs": [],
            "source": "from IPython.display import HTML\nimport pandas as pd\nimport base64, io\n\n# Download as CSV: data frame, optional title and filename\ndef create_download_link_csv(df, title = \"Download CSV file\", filename = \"df_canada.csv\"):  \n    # generate in-memory CSV, then base64-encode it\n    csv = df.to_csv(index=False)\n    b64 = base64.b64encode(csv.encode())\n    payload = b64.decode()\n    html = '<a download=\"{filename}\" href=\"data:text/csv;base64,{payload}\" target=\"_blank\">{title}</a>'\n    html = html.format(payload=payload,title=title,filename=filename)\n    return HTML(html)"
        },
        {
            "cell_type": "code",
            "execution_count": 29,
            "metadata": {},
            "outputs": [
                {
                    "data": {
                        "text/html": "<a download=\"sample.csv\" href=\"data:text/csv;base64,UG9zdGFsQ29kZSxCb3JvdWdoLE5laWdoYm91cmhvb2QKLENhbmFkaWFuIHBvc3RhbCBjb2RlcywKTTFCLFNjYXJib3JvdWdoLCJNYWx2ZXJuLCBSb3VnZSIKTTFDLFNjYXJib3JvdWdoLCJSb3VnZSBIaWxsLCBQb3J0IFVuaW9uLCBIaWdobGFuZCBDcmVlayIKTTFFLFNjYXJib3JvdWdoLCJHdWlsZHdvb2QsIE1vcm5pbmdzaWRlLCBXZXN0IEhpbGwiCk0xRyxTY2FyYm9yb3VnaCxXb2J1cm4KTTFILFNjYXJib3JvdWdoLENlZGFyYnJhZQpNMUosU2NhcmJvcm91Z2gsU2NhcmJvcm91Z2ggVmlsbGFnZQpNMUssU2NhcmJvcm91Z2gsIktlbm5lZHkgUGFyaywgSW9udmlldywgRWFzdCBCaXJjaG1vdW50IFBhcmsiCk0xTCxTY2FyYm9yb3VnaCwiR29sZGVuIE1pbGUsIENsYWlybGVhLCBPYWtyaWRnZSIKTTFNLFNjYXJib3JvdWdoLCJDbGlmZnNpZGUsIENsaWZmY3Jlc3QsIFNjYXJib3JvdWdoIFZpbGxhZ2UgV2VzdCIKTTFOLFNjYXJib3JvdWdoLCJCaXJjaCBDbGlmZiwgQ2xpZmZzaWRlIFdlc3QiCk0xUCxTY2FyYm9yb3VnaCwiRG9yc2V0IFBhcmssIFdleGZvcmQgSGVpZ2h0cywgU2NhcmJvcm91Z2ggVG93biBDZW50cmUiCk0xUixTY2FyYm9yb3VnaCwiV2V4Zm9yZCwgTWFyeXZhbGUiCk0xUyxTY2FyYm9yb3VnaCxBZ2luY291cnQKTTFULFNjYXJib3JvdWdoLCJDbGFya3MgQ29ybmVycywgVGFtIE8nU2hhbnRlciwgU3VsbGl2YW4iCk0xVixTY2FyYm9yb3VnaCwiTWlsbGlrZW4sIEFnaW5jb3VydCBOb3J0aCwgU3RlZWxlcyBFYXN0LCBMJ0Ftb3JlYXV4IEVhc3QiCk0xVyxTY2FyYm9yb3VnaCwiU3RlZWxlcyBXZXN0LCBMJ0Ftb3JlYXV4IFdlc3QiCk0xWCxTY2FyYm9yb3VnaCxVcHBlciBSb3VnZQpNMkgsTm9ydGggWW9yayxIaWxsY3Jlc3QgVmlsbGFnZQpNMkosTm9ydGggWW9yaywiRmFpcnZpZXcsIEhlbnJ5IEZhcm0sIE9yaW9sZSIKTTJLLE5vcnRoIFlvcmssQmF5dmlldyBWaWxsYWdlCk0yTCxOb3J0aCBZb3JrLCJZb3JrIE1pbGxzLCBTaWx2ZXIgSGlsbHMiCk0yTSxOb3J0aCBZb3JrLCJXaWxsb3dkYWxlLCBOZXd0b25icm9vayIKTTJOLE5vcnRoIFlvcmssIldpbGxvd2RhbGUsIFdpbGxvd2RhbGUgRWFzdCIKTTJQLE5vcnRoIFlvcmssWW9yayBNaWxscyBXZXN0Ck0yUixOb3J0aCBZb3JrLCJXaWxsb3dkYWxlLCBXaWxsb3dkYWxlIFdlc3QiCk0zQSxOb3J0aCBZb3JrLFBhcmt3b29kcwpNM0IsTm9ydGggWW9yayxEb24gTWlsbHMKTTNDLE5vcnRoIFlvcmssRG9uIE1pbGxzCk0zSCxOb3J0aCBZb3JrLCJCYXRodXJzdCBNYW5vciwgV2lsc29uIEhlaWdodHMsIERvd25zdmlldyBOb3J0aCIKTTNKLE5vcnRoIFlvcmssIk5vcnRod29vZCBQYXJrLCBZb3JrIFVuaXZlcnNpdHkiCk0zSyxOb3J0aCBZb3JrLERvd25zdmlldwpNM0wsTm9ydGggWW9yayxEb3duc3ZpZXcKTTNNLE5vcnRoIFlvcmssRG93bnN2aWV3Ck0zTixOb3J0aCBZb3JrLERvd25zdmlldwpNNEEsTm9ydGggWW9yayxWaWN0b3JpYSBWaWxsYWdlCk00QixFYXN0IFlvcmssIlBhcmt2aWV3IEhpbGwsIFdvb2RiaW5lIEdhcmRlbnMiCk00QyxFYXN0IFlvcmssV29vZGJpbmUgSGVpZ2h0cwpNNEUsRWFzdCBUb3JvbnRvLFRoZSBCZWFjaGVzCk00RyxFYXN0IFlvcmssTGVhc2lkZQpNNEgsRWFzdCBZb3JrLFRob3JuY2xpZmZlIFBhcmsKTTRKLEVhc3QgWW9yaywiRWFzdCBUb3JvbnRvLCBCcm9hZHZpZXcgTm9ydGggKE9sZCBFYXN0IFlvcmspIgpNNEssRWFzdCBUb3JvbnRvLCJUaGUgRGFuZm9ydGggV2VzdCwgUml2ZXJkYWxlIgpNNEwsRWFzdCBUb3JvbnRvLCJJbmRpYSBCYXphYXIsIFRoZSBCZWFjaGVzIFdlc3QiCk00TSxFYXN0IFRvcm9udG8sU3R1ZGlvIERpc3RyaWN0Ck00TixDZW50cmFsIFRvcm9udG8sTGF3cmVuY2UgUGFyawpNNFAsQ2VudHJhbCBUb3JvbnRvLERhdmlzdmlsbGUgTm9ydGgKTTRSLENlbnRyYWwgVG9yb250bywiTm9ydGggVG9yb250byBXZXN0LCAgTGF3cmVuY2UgUGFyayIKTTRTLENlbnRyYWwgVG9yb250byxEYXZpc3ZpbGxlCk00VCxDZW50cmFsIFRvcm9udG8sIk1vb3JlIFBhcmssIFN1bW1lcmhpbGwgRWFzdCIKTTRWLENlbnRyYWwgVG9yb250bywiU3VtbWVyaGlsbCBXZXN0LCBSYXRobmVsbHksIFNvdXRoIEhpbGwsIEZvcmVzdCBIaWxsIFNFLCBEZWVyIFBhcmsiCk00VyxEb3dudG93biBUb3JvbnRvLFJvc2VkYWxlCk00WCxEb3dudG93biBUb3JvbnRvLCJTdC4gSmFtZXMgVG93biwgQ2FiYmFnZXRvd24iCk00WSxEb3dudG93biBUb3JvbnRvLENodXJjaCBhbmQgV2VsbGVzbGV5Ck01QSxEb3dudG93biBUb3JvbnRvLCJSZWdlbnQgUGFyaywgSGFyYm91cmZyb250IgpNNUIsRG93bnRvd24gVG9yb250bywiR2FyZGVuIERpc3RyaWN0LCBSeWVyc29uIgpNNUMsRG93bnRvd24gVG9yb250byxTdC4gSmFtZXMgVG93bgpNNUUsRG93bnRvd24gVG9yb250byxCZXJjenkgUGFyawpNNUcsRG93bnRvd24gVG9yb250byxDZW50cmFsIEJheSBTdHJlZXQKTTVILERvd250b3duIFRvcm9udG8sIlJpY2htb25kLCBBZGVsYWlkZSwgS2luZyIKTTVKLERvd250b3duIFRvcm9udG8sIkhhcmJvdXJmcm9udCBFYXN0LCBVbmlvbiBTdGF0aW9uLCBUb3JvbnRvIElzbGFuZHMiCk01SyxEb3dudG93biBUb3JvbnRvLCJUb3JvbnRvIERvbWluaW9uIENlbnRyZSwgRGVzaWduIEV4Y2hhbmdlIgpNNUwsRG93bnRvd24gVG9yb250bywiQ29tbWVyY2UgQ291cnQsIFZpY3RvcmlhIEhvdGVsIgpNNU0sTm9ydGggWW9yaywiQmVkZm9yZCBQYXJrLCBMYXdyZW5jZSBNYW5vciBFYXN0IgpNNU4sQ2VudHJhbCBUb3JvbnRvLFJvc2VsYXduCk01UCxDZW50cmFsIFRvcm9udG8sIkZvcmVzdCBIaWxsIE5vcnRoICYgV2VzdCwgRm9yZXN0IEhpbGwgUm9hZCBQYXJrIgpNNVIsQ2VudHJhbCBUb3JvbnRvLCJUaGUgQW5uZXgsIE5vcnRoIE1pZHRvd24sIFlvcmt2aWxsZSIKTTVTLERvd250b3duIFRvcm9udG8sIlVuaXZlcnNpdHkgb2YgVG9yb250bywgSGFyYm9yZCIKTTVULERvd250b3duIFRvcm9udG8sIktlbnNpbmd0b24gTWFya2V0LCBDaGluYXRvd24sIEdyYW5nZSBQYXJrIgpNNVYsRG93bnRvd24gVG9yb250bywiQ04gVG93ZXIsIEtpbmcgYW5kIFNwYWRpbmEsIFJhaWx3YXkgTGFuZHMsIEhhcmJvdXJmcm9udCBXZXN0LCBCYXRodXJzdCBRdWF5LCBTb3V0aCBOaWFnYXJhLCBJc2xhbmQgYWlycG9ydCIKTTVXLERvd250b3duIFRvcm9udG8sU3RuIEEgUE8gQm94ZXMKTTVYLERvd250b3duIFRvcm9udG8sIkZpcnN0IENhbmFkaWFuIFBsYWNlLCBVbmRlcmdyb3VuZCBjaXR5IgpNNkEsTm9ydGggWW9yaywiTGF3cmVuY2UgTWFub3IsIExhd3JlbmNlIEhlaWdodHMiCk02QixOb3J0aCBZb3JrLEdsZW5jYWlybgpNNkMsWW9yayxIdW1ld29vZC1DZWRhcnZhbGUKTTZFLFlvcmssQ2FsZWRvbmlhLUZhaXJiYW5rcwpNNkcsRG93bnRvd24gVG9yb250byxDaHJpc3RpZQpNNkgsV2VzdCBUb3JvbnRvLCJEdWZmZXJpbiwgRG92ZXJjb3VydCBWaWxsYWdlIgpNNkosV2VzdCBUb3JvbnRvLCJMaXR0bGUgUG9ydHVnYWwsIFRyaW5pdHkiCk02SyxXZXN0IFRvcm9udG8sIkJyb2NrdG9uLCBQYXJrZGFsZSBWaWxsYWdlLCBFeGhpYml0aW9uIFBsYWNlIgpNNkwsTm9ydGggWW9yaywiTm9ydGggUGFyaywgTWFwbGUgTGVhZiBQYXJrLCBVcHdvb2QgUGFyayIKTTZNLFlvcmssIkRlbCBSYXksIE1vdW50IERlbm5pcywgS2VlbHNkYWxlIGFuZCBTaWx2ZXJ0aG9ybiIKTTZOLFlvcmssIlJ1bm55bWVkZSwgVGhlIEp1bmN0aW9uIE5vcnRoIgpNNlAsV2VzdCBUb3JvbnRvLCJIaWdoIFBhcmssIFRoZSBKdW5jdGlvbiBTb3V0aCIKTTZSLFdlc3QgVG9yb250bywiUGFya2RhbGUsIFJvbmNlc3ZhbGxlcyIKTTZTLFdlc3QgVG9yb250bywiUnVubnltZWRlLCBTd2Fuc2VhIgpNN0EsRG93bnRvd24gVG9yb250bywiUXVlZW4ncyBQYXJrLCBPbnRhcmlvIFByb3ZpbmNpYWwgR292ZXJubWVudCIKTTdSLE1pc3Npc3NhdWdhLENhbmFkYSBQb3N0IEdhdGV3YXkgUHJvY2Vzc2luZyBDZW50cmUKTTdZLEVhc3QgVG9yb250bywiQnVzaW5lc3MgcmVwbHkgbWFpbCBQcm9jZXNzaW5nIENlbnRyZSwgU291dGggQ2VudHJhbCBMZXR0ZXIgUHJvY2Vzc2luZyBQbGFudCBUb3JvbnRvIgpNOFYsRXRvYmljb2tlLCJOZXcgVG9yb250bywgTWltaWNvIFNvdXRoLCBIdW1iZXIgQmF5IFNob3JlcyIKTThXLEV0b2JpY29rZSwiQWxkZXJ3b29kLCBMb25nIEJyYW5jaCIKTThYLEV0b2JpY29rZSwiVGhlIEtpbmdzd2F5LCBNb250Z29tZXJ5IFJvYWQsIE9sZCBNaWxsIE5vcnRoIgpNOFksRXRvYmljb2tlLCJPbGQgTWlsbCBTb3V0aCwgS2luZydzIE1pbGwgUGFyaywgU3VubnlsZWEsIEh1bWJlciBCYXksIE1pbWljbyBORSwgVGhlIFF1ZWVuc3dheSBFYXN0LCBSb3lhbCBZb3JrIFNvdXRoIEVhc3QsIEtpbmdzd2F5IFBhcmsgU291dGggRWFzdCIKTThaLEV0b2JpY29rZSwiTWltaWNvIE5XLCBUaGUgUXVlZW5zd2F5IFdlc3QsIFNvdXRoIG9mIEJsb29yLCBLaW5nc3dheSBQYXJrIFNvdXRoIFdlc3QsIFJveWFsIFlvcmsgU291dGggV2VzdCIKTTlBLEV0b2JpY29rZSwiSXNsaW5ndG9uIEF2ZW51ZSwgSHVtYmVyIFZhbGxleSBWaWxsYWdlIgpNOUIsRXRvYmljb2tlLCJXZXN0IERlYW5lIFBhcmssIFByaW5jZXNzIEdhcmRlbnMsIE1hcnRpbiBHcm92ZSwgSXNsaW5ndG9uLCBDbG92ZXJkYWxlIgpNOUMsRXRvYmljb2tlLCJFcmluZ2F0ZSwgQmxvb3JkYWxlIEdhcmRlbnMsIE9sZCBCdXJuaGFtdGhvcnBlLCBNYXJrbGFuZCBXb29kIgpNOUwsTm9ydGggWW9yayxIdW1iZXIgU3VtbWl0Ck05TSxOb3J0aCBZb3JrLCJIdW1iZXJsZWEsIEVtZXJ5IgpNOU4sWW9yayxXZXN0b24KTTlQLEV0b2JpY29rZSxXZXN0bW91bnQKTTlSLEV0b2JpY29rZSwiS2luZ3N2aWV3IFZpbGxhZ2UsIFN0LiBQaGlsbGlwcywgTWFydGluIEdyb3ZlIEdhcmRlbnMsIFJpY2h2aWV3IEdhcmRlbnMiCk05VixFdG9iaWNva2UsIlNvdXRoIFN0ZWVsZXMsIFNpbHZlcnN0b25lLCBIdW1iZXJnYXRlLCBKYW1lc3Rvd24sIE1vdW50IE9saXZlLCBCZWF1bW9uZCBIZWlnaHRzLCBUaGlzdGxldG93biwgQWxiaW9uIEdhcmRlbnMiCk05VyxFdG9iaWNva2UsIk5vcnRod2VzdCwgV2VzdCBIdW1iZXIgLSBDbGFpcnZpbGxlIgo=\" target=\"_blank\">Download my data</a>",
                        "text/plain": "<IPython.core.display.HTML object>"
                    },
                    "execution_count": 29,
                    "metadata": {},
                    "output_type": "execute_result"
                }
            ],
            "source": "create_download_link_csv(df,\"Download my data\",\"sample.csv\")"
        }
    ],
    "metadata": {
        "kernelspec": {
            "display_name": "Python 3.6",
            "language": "python",
            "name": "python3"
        },
        "language_info": {
            "codemirror_mode": {
                "name": "ipython",
                "version": 3
            },
            "file_extension": ".py",
            "mimetype": "text/x-python",
            "name": "python",
            "nbconvert_exporter": "python",
            "pygments_lexer": "ipython3",
            "version": "3.6.9"
        }
    },
    "nbformat": 4,
    "nbformat_minor": 1
}