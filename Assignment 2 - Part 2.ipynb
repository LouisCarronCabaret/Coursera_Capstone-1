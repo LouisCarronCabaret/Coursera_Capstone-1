{
    "cells": [
        {
            "cell_type": "markdown",
            "metadata": {
                "collapsed": true
            },
            "source": "<h2>Assignment 2 - Segmenting and Clustering Neighborhoods in Toronto - Part 2</h2>\nNow that you have built a dataframe of the postal code of each neighborhood along with the borough name and neighborhood name, in order to utilize the Foursquare location data, we need to get the latitude and the longitude coordinates of each neighborhood.\n\nIn an older version of this course, we were leveraging the Google Maps Geocoding API to get the latitude and the longitude coordinates of each neighborhood. However, recently Google started charging for their API: http://geoawesomeness.com/developers-up-in-arms-over-google-maps-api-insane-price-hike/, so we will use the Geocoder Python package instead: https://geocoder.readthedocs.io/index.html.\n\nThe problem with this Package is you have to be persistent sometimes in order to get the geographical coordinates of a given postal code. So you can make a call to get the latitude and longitude coordinates of a given postal code and the result would be None, and then make the call again and you would get the coordinates. So, in order to make sure that you get the coordinates for all of our neighborhoods, you can run a while loop for each postal code."
        },
        {
            "cell_type": "markdown",
            "metadata": {},
            "source": "<h2>Extracting the Latitude and Longitude of Canada Ontario</h2>"
        },
        {
            "cell_type": "code",
            "execution_count": 6,
            "metadata": {},
            "outputs": [
                {
                    "name": "stdout",
                    "output_type": "stream",
                    "text": "Collecting geocoder\n\u001b[?25l  Downloading https://files.pythonhosted.org/packages/4f/6b/13166c909ad2f2d76b929a4227c952630ebaf0d729f6317eb09cbceccbab/geocoder-1.38.1-py2.py3-none-any.whl (98kB)\n\u001b[K     |\u2588\u2588\u2588\u2588\u2588\u2588\u2588\u2588\u2588\u2588\u2588\u2588\u2588\u2588\u2588\u2588\u2588\u2588\u2588\u2588\u2588\u2588\u2588\u2588\u2588\u2588\u2588\u2588\u2588\u2588\u2588\u2588| 102kB 5.1MB/s ta 0:00:01\n\u001b[?25hRequirement already satisfied: future in /opt/conda/envs/Python36/lib/python3.6/site-packages (from geocoder) (0.17.1)\nRequirement already satisfied: click in /opt/conda/envs/Python36/lib/python3.6/site-packages (from geocoder) (7.0)\nCollecting ratelim (from geocoder)\n  Downloading https://files.pythonhosted.org/packages/f2/98/7e6d147fd16a10a5f821db6e25f192265d6ecca3d82957a4fdd592cad49c/ratelim-0.1.6-py2.py3-none-any.whl\nRequirement already satisfied: six in /opt/conda/envs/Python36/lib/python3.6/site-packages (from geocoder) (1.12.0)\nRequirement already satisfied: requests in /opt/conda/envs/Python36/lib/python3.6/site-packages (from geocoder) (2.21.0)\nRequirement already satisfied: decorator in /opt/conda/envs/Python36/lib/python3.6/site-packages (from ratelim->geocoder) (4.3.2)\nRequirement already satisfied: idna<2.9,>=2.5 in /opt/conda/envs/Python36/lib/python3.6/site-packages (from requests->geocoder) (2.8)\nRequirement already satisfied: certifi>=2017.4.17 in /opt/conda/envs/Python36/lib/python3.6/site-packages (from requests->geocoder) (2020.6.20)\nRequirement already satisfied: urllib3<1.25,>=1.21.1 in /opt/conda/envs/Python36/lib/python3.6/site-packages (from requests->geocoder) (1.24.1)\nRequirement already satisfied: chardet<3.1.0,>=3.0.2 in /opt/conda/envs/Python36/lib/python3.6/site-packages (from requests->geocoder) (3.0.4)\nInstalling collected packages: ratelim, geocoder\nSuccessfully installed geocoder-1.38.1 ratelim-0.1.6\n"
                }
            ],
            "source": "import pandas as pd # library for data analsysis\nimport numpy as np # library to handle data in a vectorized manner\nimport random # library for random number generation\n\n#install geocoder\n!pip install geocoder\n#!conda install -c conda-forge geopy --yes \n#from geopy.geocoders import Nominatim # module to convert an address into latitude and longitude values\n\n# libraries for displaying images\n#from IPython.display import Image \n#from IPython.core.display import HTML \n    \n# tranforming json file into a pandas dataframe library\n#from pandas.io.json import json_normalize\n\n#!conda install -c conda-forge folium=0.5.0 --yes\n#import folium # plotting library\n\n#print('Folium installed')\n#print('Libraries imported.')"
        },
        {
            "cell_type": "code",
            "execution_count": 10,
            "metadata": {},
            "outputs": [
                {
                    "ename": "NameError",
                    "evalue": "name 'postal_code' is not defined",
                    "output_type": "error",
                    "traceback": [
                        "\u001b[0;31m---------------------------------------------------------------------------\u001b[0m",
                        "\u001b[0;31mNameError\u001b[0m                                 Traceback (most recent call last)",
                        "\u001b[0;32m<ipython-input-10-15d80b1bb123>\u001b[0m in \u001b[0;36m<module>\u001b[0;34m\u001b[0m\n\u001b[1;32m      6\u001b[0m \u001b[0;31m# loop until you get the coordinates\u001b[0m\u001b[0;34m\u001b[0m\u001b[0;34m\u001b[0m\u001b[0;34m\u001b[0m\u001b[0m\n\u001b[1;32m      7\u001b[0m \u001b[0;32mwhile\u001b[0m\u001b[0;34m(\u001b[0m\u001b[0mlat_lng_coords\u001b[0m \u001b[0;32mis\u001b[0m \u001b[0;32mNone\u001b[0m\u001b[0;34m)\u001b[0m\u001b[0;34m:\u001b[0m\u001b[0;34m\u001b[0m\u001b[0;34m\u001b[0m\u001b[0m\n\u001b[0;32m----> 8\u001b[0;31m   \u001b[0mg\u001b[0m \u001b[0;34m=\u001b[0m \u001b[0mgeocoder\u001b[0m\u001b[0;34m.\u001b[0m\u001b[0mgoogle\u001b[0m\u001b[0;34m(\u001b[0m\u001b[0;34m'{}, Toronto, Ontario'\u001b[0m\u001b[0;34m.\u001b[0m\u001b[0mformat\u001b[0m\u001b[0;34m(\u001b[0m\u001b[0mpostal_code\u001b[0m\u001b[0;34m)\u001b[0m\u001b[0;34m)\u001b[0m\u001b[0;34m\u001b[0m\u001b[0;34m\u001b[0m\u001b[0m\n\u001b[0m\u001b[1;32m      9\u001b[0m   \u001b[0mlat_lng_coords\u001b[0m \u001b[0;34m=\u001b[0m \u001b[0mg\u001b[0m\u001b[0;34m.\u001b[0m\u001b[0mlatlng\u001b[0m\u001b[0;34m\u001b[0m\u001b[0;34m\u001b[0m\u001b[0m\n\u001b[1;32m     10\u001b[0m \u001b[0;34m\u001b[0m\u001b[0m\n",
                        "\u001b[0;31mNameError\u001b[0m: name 'postal_code' is not defined"
                    ]
                }
            ],
            "source": "import geocoder # import geocoder\n\n# initialize your variable to None\nlat_lng_coords = None\n\n# loop until you get the coordinates\nwhile(lat_lng_coords is None):\n  g = geocoder.google('{}, Toronto, Ontario'.format(postal_code))\n  lat_lng_coords = g.latlng\n\nlatitude = lat_lng_coords[0]\nlongitude = lat_lng_coords[1]"
        },
        {
            "cell_type": "markdown",
            "metadata": {},
            "source": "Keep getting error, Used CSV file"
        },
        {
            "cell_type": "code",
            "execution_count": 11,
            "metadata": {},
            "outputs": [
                {
                    "data": {
                        "text/html": "<div>\n<style scoped>\n    .dataframe tbody tr th:only-of-type {\n        vertical-align: middle;\n    }\n\n    .dataframe tbody tr th {\n        vertical-align: top;\n    }\n\n    .dataframe thead th {\n        text-align: right;\n    }\n</style>\n<table border=\"1\" class=\"dataframe\">\n  <thead>\n    <tr style=\"text-align: right;\">\n      <th></th>\n      <th>Postal Code</th>\n      <th>Latitude</th>\n      <th>Longitude</th>\n    </tr>\n  </thead>\n  <tbody>\n    <tr>\n      <th>0</th>\n      <td>M1B</td>\n      <td>43.806686</td>\n      <td>-79.194353</td>\n    </tr>\n    <tr>\n      <th>1</th>\n      <td>M1C</td>\n      <td>43.784535</td>\n      <td>-79.160497</td>\n    </tr>\n    <tr>\n      <th>2</th>\n      <td>M1E</td>\n      <td>43.763573</td>\n      <td>-79.188711</td>\n    </tr>\n    <tr>\n      <th>3</th>\n      <td>M1G</td>\n      <td>43.770992</td>\n      <td>-79.216917</td>\n    </tr>\n    <tr>\n      <th>4</th>\n      <td>M1H</td>\n      <td>43.773136</td>\n      <td>-79.239476</td>\n    </tr>\n  </tbody>\n</table>\n</div>",
                        "text/plain": "  Postal Code   Latitude  Longitude\n0         M1B  43.806686 -79.194353\n1         M1C  43.784535 -79.160497\n2         M1E  43.763573 -79.188711\n3         M1G  43.770992 -79.216917\n4         M1H  43.773136 -79.239476"
                    },
                    "execution_count": 11,
                    "metadata": {},
                    "output_type": "execute_result"
                }
            ],
            "source": "link = \"http://cocl.us/Geospatial_data\"\ndf1 = pd.read_csv(link)\n\ndf1.head()"
        },
        {
            "cell_type": "code",
            "execution_count": 12,
            "metadata": {},
            "outputs": [
                {
                    "data": {
                        "text/plain": "(103, 3)"
                    },
                    "execution_count": 12,
                    "metadata": {},
                    "output_type": "execute_result"
                }
            ],
            "source": "df1.shape"
        },
        {
            "cell_type": "markdown",
            "metadata": {},
            "source": "Both the data frames have 103 rows and 3 columns"
        },
        {
            "cell_type": "markdown",
            "metadata": {},
            "source": "<h3>Changing the column name Postal code to Postcode to merge the two data frames together</h3>"
        },
        {
            "cell_type": "code",
            "execution_count": 14,
            "metadata": {},
            "outputs": [
                {
                    "data": {
                        "text/plain": "['PostalCode', 'Latitude', 'Longitude']"
                    },
                    "execution_count": 14,
                    "metadata": {},
                    "output_type": "execute_result"
                }
            ],
            "source": "df1.columns = ['PostalCode','Latitude','Longitude']\n\ncols = df1.columns.tolist()\ncols"
        },
        {
            "cell_type": "markdown",
            "metadata": {},
            "source": "<h4>Read in the CSV file saved in the previous assignment</h4>"
        },
        {
            "cell_type": "code",
            "execution_count": 15,
            "metadata": {},
            "outputs": [
                {
                    "data": {
                        "text/html": "<div>\n<style scoped>\n    .dataframe tbody tr th:only-of-type {\n        vertical-align: middle;\n    }\n\n    .dataframe tbody tr th {\n        vertical-align: top;\n    }\n\n    .dataframe thead th {\n        text-align: right;\n    }\n</style>\n<table border=\"1\" class=\"dataframe\">\n  <thead>\n    <tr style=\"text-align: right;\">\n      <th></th>\n      <th>PostalCode</th>\n      <th>Borough</th>\n      <th>Neighbourhood</th>\n    </tr>\n  </thead>\n  <tbody>\n    <tr>\n      <th>0</th>\n      <td>M1B</td>\n      <td>Scarborough</td>\n      <td>Malvern, Rouge</td>\n    </tr>\n    <tr>\n      <th>1</th>\n      <td>M1C</td>\n      <td>Scarborough</td>\n      <td>Rouge Hill, Port Union, Highland Creek</td>\n    </tr>\n    <tr>\n      <th>2</th>\n      <td>M1E</td>\n      <td>Scarborough</td>\n      <td>Guildwood, Morningside, West Hill</td>\n    </tr>\n    <tr>\n      <th>3</th>\n      <td>M1G</td>\n      <td>Scarborough</td>\n      <td>Woburn</td>\n    </tr>\n    <tr>\n      <th>4</th>\n      <td>M1H</td>\n      <td>Scarborough</td>\n      <td>Cedarbrae</td>\n    </tr>\n  </tbody>\n</table>\n</div>",
                        "text/plain": "  PostalCode      Borough                           Neighbourhood\n0        M1B  Scarborough                          Malvern, Rouge\n1        M1C  Scarborough  Rouge Hill, Port Union, Highland Creek\n2        M1E  Scarborough       Guildwood, Morningside, West Hill\n3        M1G  Scarborough                                  Woburn\n4        M1H  Scarborough                               Cedarbrae"
                    },
                    "execution_count": 15,
                    "metadata": {},
                    "output_type": "execute_result"
                }
            ],
            "source": "# The code was removed by Watson Studio for sharing."
        },
        {
            "cell_type": "markdown",
            "metadata": {},
            "source": "<h4>Merging the two data frames together based on their Postcode</h4>"
        },
        {
            "cell_type": "code",
            "execution_count": 17,
            "metadata": {},
            "outputs": [
                {
                    "data": {
                        "text/html": "<div>\n<style scoped>\n    .dataframe tbody tr th:only-of-type {\n        vertical-align: middle;\n    }\n\n    .dataframe tbody tr th {\n        vertical-align: top;\n    }\n\n    .dataframe thead th {\n        text-align: right;\n    }\n</style>\n<table border=\"1\" class=\"dataframe\">\n  <thead>\n    <tr style=\"text-align: right;\">\n      <th></th>\n      <th>PostalCode</th>\n      <th>Borough</th>\n      <th>Neighbourhood</th>\n      <th>Latitude</th>\n      <th>Longitude</th>\n    </tr>\n  </thead>\n  <tbody>\n    <tr>\n      <th>0</th>\n      <td>M1B</td>\n      <td>Scarborough</td>\n      <td>Malvern, Rouge</td>\n      <td>43.806686</td>\n      <td>-79.194353</td>\n    </tr>\n    <tr>\n      <th>1</th>\n      <td>M1C</td>\n      <td>Scarborough</td>\n      <td>Rouge Hill, Port Union, Highland Creek</td>\n      <td>43.784535</td>\n      <td>-79.160497</td>\n    </tr>\n    <tr>\n      <th>2</th>\n      <td>M1E</td>\n      <td>Scarborough</td>\n      <td>Guildwood, Morningside, West Hill</td>\n      <td>43.763573</td>\n      <td>-79.188711</td>\n    </tr>\n    <tr>\n      <th>3</th>\n      <td>M1G</td>\n      <td>Scarborough</td>\n      <td>Woburn</td>\n      <td>43.770992</td>\n      <td>-79.216917</td>\n    </tr>\n    <tr>\n      <th>4</th>\n      <td>M1H</td>\n      <td>Scarborough</td>\n      <td>Cedarbrae</td>\n      <td>43.773136</td>\n      <td>-79.239476</td>\n    </tr>\n  </tbody>\n</table>\n</div>",
                        "text/plain": "  PostalCode      Borough                           Neighbourhood   Latitude  \\\n0        M1B  Scarborough                          Malvern, Rouge  43.806686   \n1        M1C  Scarborough  Rouge Hill, Port Union, Highland Creek  43.784535   \n2        M1E  Scarborough       Guildwood, Morningside, West Hill  43.763573   \n3        M1G  Scarborough                                  Woburn  43.770992   \n4        M1H  Scarborough                               Cedarbrae  43.773136   \n\n   Longitude  \n0 -79.194353  \n1 -79.160497  \n2 -79.188711  \n3 -79.216917  \n4 -79.239476  "
                    },
                    "execution_count": 17,
                    "metadata": {},
                    "output_type": "execute_result"
                }
            ],
            "source": "df_new = pd.merge(df_data_1, df1, on='PostalCode')\ndf_new.head()"
        },
        {
            "cell_type": "markdown",
            "metadata": {},
            "source": "<h4>Save the file in CSV</h4>"
        },
        {
            "cell_type": "code",
            "execution_count": 18,
            "metadata": {},
            "outputs": [],
            "source": "from IPython.display import HTML\nimport pandas as pd\nimport base64, io\n\n# Download as CSV: data frame, optional title and filename\ndef create_download_link_csv(df, title = \"Download CSV file\", filename = \"df_canada_new.csv\"):  \n    # generate in-memory CSV, then base64-encode it\n    csv = df.to_csv(index=False)\n    b64 = base64.b64encode(csv.encode())\n    payload = b64.decode()\n    html = '<a download=\"{filename}\" href=\"data:text/csv;base64,{payload}\" target=\"_blank\">{title}</a>'\n    html = html.format(payload=payload,title=title,filename=filename)\n    return HTML(html)"
        },
        {
            "cell_type": "code",
            "execution_count": 20,
            "metadata": {},
            "outputs": [
                {
                    "data": {
                        "text/html": "<a download=\"df_canada_new.csv\" href=\"data:text/csv;base64,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\" target=\"_blank\">Download CSV File</a>",
                        "text/plain": "<IPython.core.display.HTML object>"
                    },
                    "execution_count": 20,
                    "metadata": {},
                    "output_type": "execute_result"
                }
            ],
            "source": "create_download_link_csv(df_new,\"Download CSV File\",\"df_canada_new.csv\")"
        }
    ],
    "metadata": {
        "kernelspec": {
            "display_name": "Python 3.6",
            "language": "python",
            "name": "python3"
        }
    },
    "nbformat": 4,
    "nbformat_minor": 1
}